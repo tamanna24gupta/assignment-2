{
 "cells": [
  {
   "cell_type": "markdown",
   "id": "6c07264a-9868-4aac-8425-6b16cdb4429b",
   "metadata": {},
   "source": [
    "1:DISCUSS STRING SLICING WITH SOME EXAMPLES? \n",
    "String slicing in Python is a powerful feature that allows you to access a portion of a string by specifying a range of indices.\n",
    "Slicing helps To extract substrings from a string using a specific syntax. \n"
   ]
  },
  {
   "cell_type": "code",
   "execution_count": 2,
   "id": "75ee7c8b-c2c6-45e6-b47a-66991a7d7134",
   "metadata": {},
   "outputs": [
    {
     "name": "stdout",
     "output_type": "stream",
     "text": [
      "Hello\n",
      "World\n"
     ]
    }
   ],
   "source": [
    "#EXAMPLE1:\n",
    "text = \"Hello, World!\"\n",
    "slice1 = text[0:5] # \"Hello\"\n",
    "slice2 = text[7:12] # \"World\"\n",
    "print(slice1)\n",
    "print(slice2)"
   ]
  },
  {
   "cell_type": "markdown",
   "id": "eeb72357-47c9-49a0-afb9-662a1b5e994a",
   "metadata": {},
   "source": [
    "2: EXPLAIN KEY FEATURES OF LIST IN PYTHON? \n",
    "Lists maintain the orderof the elements as they are added. Lists can contain elements of different data types, including other lists.\n",
    "The elements can be accessed using indices, where the first\n",
    "element has an index of 0, the second has an index of 1, and so on. Lists are mutable, meaning\n",
    "that the elements of a list can be changed after the list has been created. we can add, remove, or\n",
    "modify elements within a list.This allows for a high degree of flexibility when working with data. Python provides a concise\n",
    "way to create lists using list comprehensions, which allows for the generation of lists in a readable\n",
    "and efficient manner."
   ]
  },
  {
   "cell_type": "markdown",
   "id": "3dc85caf-312c-4ec6-aa9b-dc6125164d63",
   "metadata": {},
   "source": [
    "3: Describe how to access, modify and delete elements in a list?\n"
   ]
  },
  {
   "cell_type": "code",
   "execution_count": 3,
   "id": "b6b28ebc-2182-4a9b-9fdb-b88421c708f4",
   "metadata": {},
   "outputs": [
    {
     "name": "stdout",
     "output_type": "stream",
     "text": [
      "10\n",
      "30\n",
      "[10, 25, 30, 40, 50]\n",
      "[10, 25, 40, 50]\n"
     ]
    }
   ],
   "source": [
    "my_list = [10, 20, 30, 40, 50]\n",
    "print(my_list[0]) # Outputs: 10\n",
    "print(my_list[2]) # Outputs: 30\n",
    "my_list[1] = 25\n",
    "print(my_list) # Outputs: [10, 25, 30, 40, 50]\n",
    "del my_list[2]\n",
    "print(my_list) # Outputs: [10, 21, 40, 50]"
   ]
  },
  {
   "cell_type": "markdown",
   "id": "fb7fea6e-2507-4a3b-a9ec-917c85a2bb98",
   "metadata": {},
   "source": [
    "4: COMPARE AND CONTRAST LIST AND TUPLES WITH EXAMPLES?\n",
    "Lists:\n",
    "Lists are mutable, that means we  can change, add, or remove elements after the list has been created.\n",
    "Lists are defined using square brackets []. \n",
    "\n",
    "Tuples: Tuples are immutable, meaning once a tuple is created, it cannot be modified.\n",
    "Tuples are defined using parentheses ()\n"
   ]
  },
  {
   "cell_type": "code",
   "execution_count": null,
   "id": "faac0a90-9971-48ef-a228-260d2af295ff",
   "metadata": {},
   "outputs": [],
   "source": [
    "#EXAMPLE OF A LIST\n",
    "my_list = [10, 20, 30]\n",
    "my_list[1] = 25 # Modifying an element\n",
    "my_list.append(40) # Adding a new element\n",
    "print(my_list) # Outputs: [10, 25, 30, 40]\n",
    "\n",
    "#EXAMPLE OF A TUPPLE\n",
    "my_tuple = (10, 20, 30)\n",
    "# Attempting to modify will raise an error\n",
    "# my_tuple[1] = 25 # Uncommenting this will cause a TypeError\n"
   ]
  },
  {
   "cell_type": "markdown",
   "id": "4efe68fd-d25a-4b4c-b48e-bf4c20bd81c1",
   "metadata": {},
   "source": [
    "5: Describe key features of sets and provide examples of their use?\n",
    "Python sets do not preserve the order of elements. This means that the items have no specific order and can\n",
    "appear in any sequence. Sets automatically ensure that all elements are unique. If we try to add a\n",
    "duplicate, it will be ignored. While the elements of a set must be immutable (e.g., numbers, strings,\n",
    "tuples), the set itself is mutable, meaning you can add or remove elements. Sets automatically\n",
    "handle duplicates by storing only one instance of each element."
   ]
  },
  {
   "cell_type": "code",
   "execution_count": 4,
   "id": "32003a94-6cdb-49fd-aa2d-c2de8b105cf1",
   "metadata": {},
   "outputs": [
    {
     "name": "stdout",
     "output_type": "stream",
     "text": [
      "{1, 2, 3}\n",
      "{1, 2, 3}\n",
      "{1, 2, 3, 4}\n"
     ]
    }
   ],
   "source": [
    "#EXAMPLES:\n",
    "my_set = {1, 3, 2}\n",
    "print(my_set) # Output could be {1, 2, 3} or {3, 1, 2}, etc.\n",
    "my_set = {1, 2, 2, 3}\n",
    "print(my_set) # Output: {1, 2, 3}\n",
    "my_set = {1, 2, 3}\n",
    "my_set.add(4)\n",
    "print(my_set) # Output: {1, 2, 3, 4}"
   ]
  },
  {
   "cell_type": "markdown",
   "id": "a13d2577-9c42-4e72-adbe-b6b9c65aa7b0",
   "metadata": {},
   "source": [
    "6: DISCUSS THE USE CASE OF SETS AND TUPLES IN PYTHON? \n",
    "TUPLE is an ordered, immutable collection of elements. Once a tuple is created, its elements cannot\n",
    "be changed, added, or removed.Tuples are ideal when you have a fixed collection of items that\n",
    "shouldn’t change throughout the program.\n",
    "For example, coordinates (x, y),or\n",
    "days of the week can be represented as tuples.Because tuples are immutable, they are generally\n",
    "faster and use less memory than lists. Therefore, if you have a collection of data that doesn’t\n",
    "need to change, using a tuple can be more efficient. SETS: A set is an unordered collection of\n",
    "unique elements. Sets are mutable, but they do not allow duplicate elements.Sets are often used\n",
    "to remove duplicates from a collection. For instance, converting a list to a set will automatically\n",
    "remove any duplicate values."
   ]
  },
  {
   "cell_type": "markdown",
   "id": "9c17ac8b-1496-4d2f-97d5-a3a4e2ee3174",
   "metadata": {},
   "source": [
    "7: DISCUSS HOW TO ACCESS , ADD, MODIFY ITEMS IN DICTIONARY?"
   ]
  },
  {
   "cell_type": "code",
   "execution_count": 5,
   "id": "1780015a-ae81-45cf-b5f8-0d293a8d6f54",
   "metadata": {},
   "outputs": [
    {
     "name": "stdout",
     "output_type": "stream",
     "text": [
      "Alice\n",
      "Alice\n",
      "USA\n",
      "{'name': 'Alice', 'age': 25, 'city': 'New York', 'email': 'alice@example.com'}\n",
      "{'name': 'Alice', 'age': 26, 'city': 'New York', 'email': 'alice@example.com'}\n",
      "{'name': 'Alice', 'age': 26, 'email': 'alice@example.com'}\n"
     ]
    }
   ],
   "source": [
    "my_dict = {'name': 'Alice', 'age': 25, 'city': 'New York'}\n",
    "print(my_dict['name']) # Output: Alice\n",
    "print(my_dict.get('name')) # Output: Alice\n",
    "print(my_dict.get('country', 'USA')) # Output: USA\n",
    "#MODIFY\n",
    "my_dict['email'] = 'alice@example.com'\n",
    "print(my_dict)\n",
    "my_dict['age'] = 26\n",
    "print(my_dict)\n",
    "#DELETE\n",
    "del my_dict['city']\n",
    "print(my_dict)"
   ]
  },
  {
   "cell_type": "markdown",
   "id": "b3f3f962-879e-406b-b4e6-29cb43fc2078",
   "metadata": {},
   "source": [
    "8: DISCUSS THE IMPORTANCE OF DICTIONARY BEING IMMUTABLE ?\n",
    "Strings and tuples are immutable types, so they make reliable dictionary keys. The dictionary\n",
    "maintains the association between keys and values correctly, and there are no issues with data\n",
    "retrieval or integrity."
   ]
  },
  {
   "cell_type": "code",
   "execution_count": 6,
   "id": "1f583461-a140-4bea-b7ea-e467cee0a509",
   "metadata": {},
   "outputs": [
    {
     "name": "stdout",
     "output_type": "stream",
     "text": [
      "value1\n",
      "value2\n",
      "tuple value\n"
     ]
    }
   ],
   "source": [
    "my_dict = {}\n",
    "my_dict[\"key1\"] = \"value1\"\n",
    "my_dict[\"key2\"] = \"value2\"\n",
    "print(my_dict[\"key1\"]) # Output: value1\n",
    "print(my_dict[\"key2\"]) # Output: value2\n",
    "# Using tuples as dictionary keys\n",
    "my_dict[(1, 2, 3)] = \"tuple value\"\n",
    "print(my_dict[(1, 2, 3)]) # Output: tuple value"
   ]
  },
  {
   "cell_type": "code",
   "execution_count": null,
   "id": "80cb1510-4bde-4833-acdc-6e058a5f534a",
   "metadata": {},
   "outputs": [],
   "source": []
  }
 ],
 "metadata": {
  "kernelspec": {
   "display_name": "Python 3 (ipykernel)",
   "language": "python",
   "name": "python3"
  },
  "language_info": {
   "codemirror_mode": {
    "name": "ipython",
    "version": 3
   },
   "file_extension": ".py",
   "mimetype": "text/x-python",
   "name": "python",
   "nbconvert_exporter": "python",
   "pygments_lexer": "ipython3",
   "version": "3.10.8"
  }
 },
 "nbformat": 4,
 "nbformat_minor": 5
}
